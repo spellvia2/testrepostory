{
  "nbformat": 4,
  "nbformat_minor": 0,
  "metadata": {
    "colab": {
      "name": "math_symbol_prac.ipynb",
      "provenance": [],
      "authorship_tag": "ABX9TyMV/81osREOfgQOC5QKOasW",
      "include_colab_link": true
    },
    "kernelspec": {
      "name": "python3",
      "display_name": "Python 3"
    },
    "language_info": {
      "name": "python"
    }
  },
  "cells": [
    {
      "cell_type": "markdown",
      "metadata": {
        "id": "view-in-github",
        "colab_type": "text"
      },
      "source": [
        "<a href=\"https://colab.research.google.com/github/spellvia2/testrepostory/blob/main/math_symbol_prac.ipynb\" target=\"_parent\"><img src=\"https://colab.research.google.com/assets/colab-badge.svg\" alt=\"Open In Colab\"/></a>"
      ]
    },
    {
      "cell_type": "markdown",
      "metadata": {
        "id": "6LvG515iYqs1"
      },
      "source": [
        "## 수학 기호 연습\n",
        "\n",
        "수식 기호들을 집어 넣는 연습을 해봅시다. $\\theta =1 $ $1 \\le 5$  \n",
        "$\\sum_{i=1}^{n}i^2$"
      ]
    },
    {
      "cell_type": "markdown",
      "metadata": {
        "id": "er65wHjnZfLP"
      },
      "source": [
        "\n",
        "큰 시그마 \n",
        "$$\n",
        "\\sum_{i=1}^{n} \\frac{1}{i}\n",
        "$$"
      ]
    },
    {
      "cell_type": "markdown",
      "metadata": {
        "id": "zQn_7bsYeW-v"
      },
      "source": [
        "$X_1,X_2,....,X_n$이 독립일 때  \n",
        "$var$($\\displaystyle\\sum_{i=1}^{n} X_i$) = $\\displaystyle\\sum_{i=1}^{n}var(X_i)$  \n",
        "이 성립한다.  "
      ]
    },
    {
      "cell_type": "markdown",
      "metadata": {
        "id": "9U201RsFfXpE"
      },
      "source": [
        "$X$~$N(m,\\sigma)$  \n",
        "$f(x) = \\frac{1}{\\sigma\\sqrt{2\\pi}}exp(-\\frac{(x-m)^2}{2\\sigma^2})$   \n",
        "$\\int_{-\\infty}^{\\infty}$$\\frac{1}{\\sigma\\sqrt{2\\pi}}exp(-\\frac{(x-m)^2}{2\\sigma^2})$ = 1"
      ]
    },
    {
      "cell_type": "markdown",
      "metadata": {
        "id": "Ca0SyOJXhXBl"
      },
      "source": [
        "\\begin{align}\n",
        "r = Corr(X,Y)&=\\frac{\\frac{1}{n-1}\\displaystyle\\sum_{i=1}^{n} (x_i-\\bar{x})\n",
        "(y_i-\\bar{y})}\n",
        "{\\sqrt{\\frac{1}{n-1}\\displaystyle\\sum_{i=1}^{n} (x_i-\\bar{x})}\n",
        "\\sqrt{\\frac{1}{n-1}\\displaystyle\\sum_{i=1}^{n} (y_i-\\bar{y})}}\\\\\n",
        "&=  \\frac{\\displaystyle\\sum_{i=1}^{n} (x_i-\\bar{x})\n",
        "(y_i-\\bar{y})}\n",
        "{\\sqrt{\\displaystyle\\sum_{i=1}^{n} (x_i-\\bar{x})}\n",
        "\\sqrt{\\displaystyle\\sum_{i=1}^{n} (y_i-\\bar{y})}}\\\\\n",
        "\\end{align}\n"
      ]
    },
    {
      "cell_type": "code",
      "metadata": {
        "id": "LimKlcHNYv7t"
      },
      "source": [
        ""
      ],
      "execution_count": null,
      "outputs": []
    },
    {
      "cell_type": "code",
      "metadata": {
        "id": "nXERcWhjqPBr"
      },
      "source": [
        ""
      ],
      "execution_count": null,
      "outputs": []
    }
  ]
}